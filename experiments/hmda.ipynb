{
 "cells": [
  {
   "cell_type": "code",
   "execution_count": 7,
   "metadata": {},
   "outputs": [],
   "source": [
    "import sys\n",
    "import numpy as np \n",
    "sys.path.append('..')\n",
    "from src.proxies import gBisg\n",
    "from src.datasets import HMDA \n",
    "from sklearn.linear_model import LogisticRegression"
   ]
  },
  {
   "cell_type": "code",
   "execution_count": 8,
   "metadata": {},
   "outputs": [
    {
     "name": "stderr",
     "output_type": "stream",
     "text": [
      "/Users/kaggrey/Documents/research/proxies/experiments/../src/datasets.py:52: FutureWarning: Downcasting behavior in `replace` is deprecated and will be removed in a future version. To retain the old behavior, explicitly call `result.infer_objects(copy=False)`. To opt-in to the future behavior, set `pd.set_option('future.no_silent_downcasting', True)`\n",
      "  targets = self.data[\"derived_race\"].replace(self.map_to_index)\n"
     ]
    },
    {
     "name": "stdout",
     "output_type": "stream",
     "text": [
      "\n"
     ]
    },
    {
     "data": {
      "text/plain": [
       "0.6567600487210719"
      ]
     },
     "execution_count": 8,
     "metadata": {},
     "output_type": "execute_result"
    }
   ],
   "source": [
    "gbisg = gBisg()\n",
    "hmda = HMDA(\"../data/hmda/hmda.csv\", gbisg, outcome=True)\n",
    "X_train, X_test, Y_train, Y_test, B_train, B_test = hmda.get_data(split=.5, return_bisg=True)\n",
    "lr = LogisticRegression(multi_class='multinomial', solver='lbfgs', penalty=\"l2\", tol=1e-7, max_iter=int(1e6))\n",
    "lr.fit(X_train,Y_train)"
   ]
  },
  {
   "cell_type": "code",
   "execution_count": 15,
   "metadata": {},
   "outputs": [
    {
     "name": "stdout",
     "output_type": "stream",
     "text": [
      "derived_race\n",
      "white       0.510137\n",
      "black       0.309586\n",
      "api         0.078766\n",
      "hispanic    0.070158\n",
      "multiple    0.028484\n",
      "native      0.002869\n",
      "Name: count, dtype: float64\n",
      "n\n"
     ]
    }
   ],
   "source": [
    "race_given_originated_truth = Y_test.replace(hmda.map_to_race).value_counts()\n",
    "print(race_given_originated_truth/race_given_originated_truth.sum())\n",
    "print(\"n\")"
   ]
  },
  {
   "cell_type": "code",
   "execution_count": 19,
   "metadata": {},
   "outputs": [
    {
     "data": {
      "text/plain": [
       "white       0.573877\n",
       "black       0.285744\n",
       "api         0.048819\n",
       "native      0.002497\n",
       "multiple    0.021549\n",
       "hispanic    0.067514\n",
       "dtype: float64"
      ]
     },
     "execution_count": 19,
     "metadata": {},
     "output_type": "execute_result"
    }
   ],
   "source": [
    "B_test.sum()/B_test.sum().sum()"
   ]
  },
  {
   "cell_type": "code",
   "execution_count": 23,
   "metadata": {},
   "outputs": [
    {
     "data": {
      "text/plain": [
       "array([0.51251867, 0.30636306, 0.07987265, 0.00271894, 0.02879274,\n",
       "       0.06973394])"
      ]
     },
     "execution_count": 23,
     "metadata": {},
     "output_type": "execute_result"
    }
   ],
   "source": [
    "lr_pred = lr.predict_proba(X_test) \n",
    "lr_pred.sum(axis=0)/lr_pred.sum()"
   ]
  }
 ],
 "metadata": {
  "kernelspec": {
   "display_name": "Python 3",
   "language": "python",
   "name": "python3"
  },
  "language_info": {
   "codemirror_mode": {
    "name": "ipython",
    "version": 3
   },
   "file_extension": ".py",
   "mimetype": "text/x-python",
   "name": "python",
   "nbconvert_exporter": "python",
   "pygments_lexer": "ipython3",
   "version": "3.11.3"
  }
 },
 "nbformat": 4,
 "nbformat_minor": 2
}
